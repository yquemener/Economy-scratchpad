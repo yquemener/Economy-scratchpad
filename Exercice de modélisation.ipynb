{
 "cells": [
  {
   "cell_type": "markdown",
   "metadata": {},
   "source": [
    "#Intro\n",
    "\n",
    "Il y a un moment que je voulais essayer de faire de la modélisation macro-économique, et de poser un peu sur «papier» comment procéder. À la fois pour me clarifier les idées grapillées à droite et à gauche et aussi dans l'espoir que ça puisse être utile à d'autres qui auraient envie d'essayer.\n",
    "\n",
    "Pour cela essayons de modéliser un phénomène qui m'intresse particulièrement: le pic de production de pétrole. Mais d'abordune petite introduction sur les modèles économiques:\n",
    "\n",
    "\n",
    "##Modèles macro-économiques\n",
    "\n",
    "Dans une modélisation macro-économique, le but est de trouver un ensembles de règles qui permettent de simuler un événement connu dans l'espoir de pouvoir anticiper son évolution. Typiquement on dispose de données historiques et on essaye de les reproduire avec le modèle le plus simple possible.\n",
    "\n",
    "Il est important d'avoir le modèle le plus simple possible, en particulier en terme de nombre de paramètres. Un des écueils courants de la modélisation est l'*overfitting* c'est à dire la tendance à stocker dans les paramètres plus d'informations que les données historiques n'en contiennent. Cela donne un modèle inutile puisqu'il devient alors génralement possible, en faisant varier les paramètres, d'obtenir des évolutions futures totalement différentes tout en générant les données historiques correctement. \n",
    "\n",
    "De plus, tout usage prédictif d'un modèle impose de mesurer de façon rigoureuse les différents paramètres ce qui est bien sur d'autant plus facile qu'ils sont moins nombreux. Le modèle SIR, très utilisé en épidémiologie est un très bon exemple: il ne comporte que deux paramètres (taux de transmission et durée d'infection), afin qu'en cas de nouvelle épidémie on puisse rapidement en évaluer la dangerosité.\n",
    "\n",
    "En économie, chaque paramètre requiert une justification: soit il a été mesuré, soit il s'agit d'un paramètre de correction utilisé pour reproduire les données historiques connues. On essaye de minimiser cette dernière catégorie.\n",
    "\n",
    "\n",
    "##Modèles macro et modèles micro\n",
    "\n",
    "Dans le domaine de la simulation économique, deux écoles existent. Dans la simulation «macro», on s'intéresse à l'évolution d'indicateurs les plus larges possibles et on tente de discerner les règles régissant aux évolutions de fond, sans se préoccuper des acteurs individuels. Historiquement, la plupart des modèles économiques étaient de cette sorte lorsque les ordinateurs rares et les capacités de calcul limitées.\n",
    "\n",
    "Avec l'avénement de l'informatique, de nombreuses personnes se sont attachées à faire des simulation comportant des milliers voire des millions d'agents, obéissant à des règles simples, afin de voir s'il n'émergeait pas de leur nombre des comportements qui échappent à la compréhension des modèles macro. C'est ce qu'on nomme un modèle «micro»: on modlise un agent individuel afin d'essayer de faire émerger le comportement général que l'on étudie. \n",
    "\n",
    "Beaucoup de programmeurs (moi le premier) sont instinctivement attirés par l'approche micro. Instinctivement, elle semble plus prometteuse: il est facile d'imaginer un agent très paramétrable et de créer des populations hétérogènes permettant de réellement simuler une économie proche de la réalité. Cette tentation amène souvent à créer des modèles d'agents comportant des centaines de paramètres, ce qui rend l'approche énoncée plus haut impossible.\n",
    "\n",
    "Ce qui semble un caractéristique souhaitable pour quelqu'un qui a envie de «jouer» avec une simu faisant émerger des comportements intéressant est en fait un handicap pour l'étude des phénomènes économiques.\n",
    "\n",
    "Personellement, je ne sais pas trop où je me situe. La modélisation qui suit a des aspects micro et macro, je ne saurais pas trop la catégoriser."
   ]
  },
  {
   "cell_type": "markdown",
   "metadata": {},
   "source": [
    "#Le peak oil\n",
    "\n",
    "Je cherche à créer un modèle permettant de mettre en évidence les phénomènes régissant la production et l'évolution des couts de production du pétrole dans le monde et voir comment les différents modèles possibles anticipent la transition.\n",
    "\n",
    "\n",
    "##Petit disclaimers\n",
    "\n",
    "1. Le peak oil sera, selon à peu près toutes les définitions du terme, une crise. Simuler une crise est la tâche la plus intéressante mais c'est aussi la plus difficile pour un modèle, car dans une crise, les règles peuvent vite changer. Une guerre, une intervention massive des états, peuvent rendre un modèle totalement caduque. Un modèle n'est pas un oracle, c'est juste un argument qui vient typiquement s'insèrer dans une discussion économique plus large. Une modélisation comporte généralement des biais et des hypothèses à plusieurs niveaux qui sont ouverts à la discussion.\n",
    "\n",
    "2. Je ne m'intéresse pas, dans ce premier temps, aux gaz de schiste. C'est donc un exercice purement théorique car toute simulation sérieuse ne peut ignorer ce domaine. Je pense y venir dans un deuxième temps.\n",
    "\n",
    "3. J'ai pris des sources sur internet un petit peu à la va-vite et n'ai pas fait le travail de vérification normalement indispensable si on se trouvait dans un contexte académique. N'hésitez pas à me signaler les erreurs/incohérences que cela pourrtait causer.\n",
    "\n",
    "##Données historiques\n",
    "\n",
    "C'est le point de départ de notre modélisation. Quels phénomènes connus souhaite-t-on reproduire?\n",
    "\n",
    "1. L'évolution de la production mondiale de pétrole jusqu'en 2005 (afin de ne pas être perturbés par l'arrivée des gaz de schiste)\n",
    "2. L'évolution de la production US, qui a connu un déclin qui n'est pas (encore) visible sur la production mondiale.\n",
    "3. L'évolution de la production du Texas, qui a connu un déclin plus marqué.\n",
    "\n",
    "\n",
    "![oil production of the world](img/World_Oil_Production.png)\n",
    "![oil production of USA](img/usa-oil-prod.gif)\n",
    "![oil production of Texas](img/Texas_Oil_Production_1935_to_2005.png)"
   ]
  },
  {
   "cell_type": "code",
   "execution_count": null,
   "metadata": {
    "collapsed": true
   },
   "outputs": [],
   "source": []
  }
 ],
 "metadata": {
  "kernelspec": {
   "display_name": "Python 2",
   "language": "python",
   "name": "python2"
  },
  "language_info": {
   "codemirror_mode": {
    "name": "ipython",
    "version": 2
   },
   "file_extension": ".py",
   "mimetype": "text/x-python",
   "name": "python",
   "nbconvert_exporter": "python",
   "pygments_lexer": "ipython2",
   "version": "2.7.9"
  }
 },
 "nbformat": 4,
 "nbformat_minor": 0
}
